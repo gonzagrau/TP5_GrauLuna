{
 "cells": [
  {
   "cell_type": "markdown",
   "metadata": {},
   "source": [
    "# Queries de SQL aplicadas sobre la BBDD"
   ]
  },
  {
   "cell_type": "markdown",
   "metadata": {},
   "source": [
    "El siguiente notebook busca responder las consignas del punto 2. Se ejecutarán las queries pertinentes, y se mostrarán en pantalla los resultados. \n",
    "\n",
    "*Observación: para correr adecuadamente este notebook, se requieren las credenciales de acceso a la base, las cuales no están publicadas en el repositorio público. A su vez, se deben instalar las bibliotecas que se importan a continuación*\n"
   ]
  },
  {
   "cell_type": "code",
   "execution_count": 1,
   "metadata": {},
   "outputs": [],
   "source": [
    "# Importamos bibliotecas...\n",
    "import pandas as pd\n",
    "import sqlalchemy as sql\n",
    "import os\n",
    "from dotenv import load_dotenv"
   ]
  },
  {
   "cell_type": "code",
   "execution_count": 4,
   "metadata": {},
   "outputs": [],
   "source": [
    "# Cargamos las credenciales de la base de datos\n",
    "load_dotenv()\n",
    "NAME=os.getenv(\"NAME\")\n",
    "PASSWORD=os.getenv(\"PASSWORD\")\n",
    "USER=os.getenv(\"USERNAME_AIVEN\")\n",
    "HOST=os.getenv(\"HOST\")\n",
    "PORT=os.getenv(\"PORT\")\n",
    "SSLMODE=os.getenv(\"SSL_MODE\")\n",
    "\n",
    "# Creamos la conexión\n",
    "engine = sql.create_engine(f\"postgresql://{USER}:{PASSWORD}@{HOST}:{PORT}/{NAME}?sslmode={SSLMODE}\")"
   ]
  },
  {
   "cell_type": "code",
   "execution_count": 9,
   "metadata": {},
   "outputs": [
    {
     "data": {
      "text/html": [
       "<div>\n",
       "<style scoped>\n",
       "    .dataframe tbody tr th:only-of-type {\n",
       "        vertical-align: middle;\n",
       "    }\n",
       "\n",
       "    .dataframe tbody tr th {\n",
       "        vertical-align: top;\n",
       "    }\n",
       "\n",
       "    .dataframe thead th {\n",
       "        text-align: right;\n",
       "    }\n",
       "</style>\n",
       "<table border=\"1\" class=\"dataframe\">\n",
       "  <thead>\n",
       "    <tr style=\"text-align: right;\">\n",
       "      <th></th>\n",
       "      <th>nombre</th>\n",
       "      <th>fecha_nacimiento</th>\n",
       "      <th>id_sexo</th>\n",
       "      <th>numero</th>\n",
       "      <th>calle</th>\n",
       "      <th>ciudad</th>\n",
       "      <th>edad</th>\n",
       "    </tr>\n",
       "    <tr>\n",
       "      <th>id_paciente</th>\n",
       "      <th></th>\n",
       "      <th></th>\n",
       "      <th></th>\n",
       "      <th></th>\n",
       "      <th></th>\n",
       "      <th></th>\n",
       "      <th></th>\n",
       "    </tr>\n",
       "  </thead>\n",
       "  <tbody>\n",
       "    <tr>\n",
       "      <th>1</th>\n",
       "      <td>Luciana Gómez</td>\n",
       "      <td>1991-07-12</td>\n",
       "      <td>2</td>\n",
       "      <td>121</td>\n",
       "      <td>Avenida Las Heras</td>\n",
       "      <td>Bs Aires</td>\n",
       "      <td>33</td>\n",
       "    </tr>\n",
       "    <tr>\n",
       "      <th>2</th>\n",
       "      <td>Ricardo López</td>\n",
       "      <td>1984-03-22</td>\n",
       "      <td>1</td>\n",
       "      <td>434</td>\n",
       "      <td>Calle San Juan</td>\n",
       "      <td>Rosario</td>\n",
       "      <td>40</td>\n",
       "    </tr>\n",
       "    <tr>\n",
       "      <th>3</th>\n",
       "      <td>Clara Fernández</td>\n",
       "      <td>1990-09-15</td>\n",
       "      <td>2</td>\n",
       "      <td>569</td>\n",
       "      <td>Calle San Juan</td>\n",
       "      <td>Rosario</td>\n",
       "      <td>34</td>\n",
       "    </tr>\n",
       "    <tr>\n",
       "      <th>4</th>\n",
       "      <td>Marcos Ramírez</td>\n",
       "      <td>1983-11-10</td>\n",
       "      <td>1</td>\n",
       "      <td>250</td>\n",
       "      <td>Avenida Pellegrini</td>\n",
       "      <td>Santa Fe</td>\n",
       "      <td>40</td>\n",
       "    </tr>\n",
       "    <tr>\n",
       "      <th>5</th>\n",
       "      <td>Julieta Rodríguez</td>\n",
       "      <td>1985-06-18</td>\n",
       "      <td>2</td>\n",
       "      <td>845</td>\n",
       "      <td>Calle Mitre</td>\n",
       "      <td>buenos aires</td>\n",
       "      <td>39</td>\n",
       "    </tr>\n",
       "  </tbody>\n",
       "</table>\n",
       "</div>"
      ],
      "text/plain": [
       "                        nombre fecha_nacimiento  id_sexo numero  \\\n",
       "id_paciente                                                       \n",
       "1                Luciana Gómez       1991-07-12        2    121   \n",
       "2                Ricardo López       1984-03-22        1    434   \n",
       "3              Clara Fernández       1990-09-15        2    569   \n",
       "4               Marcos Ramírez       1983-11-10        1    250   \n",
       "5            Julieta Rodríguez       1985-06-18        2    845   \n",
       "\n",
       "                          calle        ciudad  edad  \n",
       "id_paciente                                          \n",
       "1             Avenida Las Heras      Bs Aires    33  \n",
       "2                Calle San Juan       Rosario    40  \n",
       "3                Calle San Juan       Rosario    34  \n",
       "4            Avenida Pellegrini      Santa Fe    40  \n",
       "5                   Calle Mitre  buenos aires    39  "
      ]
     },
     "execution_count": 9,
     "metadata": {},
     "output_type": "execute_result"
    }
   ],
   "source": [
    "# Query de prueba\n",
    "query = \"SELECT * FROM pacientes LIMIT 5\"\n",
    "pd.read_sql(query, engine, index_col=\"id_paciente\") "
   ]
  },
  {
   "cell_type": "markdown",
   "metadata": {},
   "source": [
    "**1. Cuando se realizan consultas sobre la tabla paciente agrupando por ciudad los tiempos de respuesta son demasiado largos. \n",
    "Proponer mediante una query SQL una solución a este problema.**"
   ]
  },
  {
   "cell_type": "code",
   "execution_count": 16,
   "metadata": {},
   "outputs": [
    {
     "name": "stdout",
     "output_type": "stream",
     "text": [
      "Índice creado correctamente\n"
     ]
    }
   ],
   "source": [
    "query_1 = '''CREATE INDEX IF NOT EXISTS idx_ciudades \n",
    "             ON pacientes (ciudad);'''\n",
    "\n",
    "with engine.connect() as connection:\n",
    "    try:\n",
    "        connection.execute(sql.text(query_1))\n",
    "        print(\"Índice creado correctamente\")\n",
    "        \n",
    "    except Exception as e:\n",
    "        print(e)"
   ]
  },
  {
   "cell_type": "code",
   "execution_count": 18,
   "metadata": {},
   "outputs": [
    {
     "name": "stdout",
     "output_type": "stream",
     "text": [
      "Columna e Índice creados correctamente\n"
     ]
    }
   ],
   "source": [
    "query_2_1 = '''ALTER TABLE pacientes\n",
    "                ADD COLUMN IF NOT EXISTS edad INT;'''\n",
    "query_2_2 = '''UPDATE pacientes\n",
    "                SET edad = EXTRACT(YEAR FROM AGE(CURRENT_DATE, fecha_nacimiento));'''\n",
    "query_2_3 = '''CREATE INDEX IF NOT EXISTS idx_edades\n",
    "                ON pacientes (edad);''' \n",
    "\n",
    "with engine.connect() as connection:\n",
    "    try:\n",
    "        connection.execute(sql.text(query_2_1))\n",
    "        connection.execute(sql.text(query_2_2))\n",
    "        connection.execute(sql.text(query_2_3))\n",
    "        print(\"Columna e Índice creados correctamente\")\n",
    "        \n",
    "    except Exception as e:\n",
    "        print(e)"
   ]
  },
  {
   "cell_type": "markdown",
   "metadata": {},
   "source": [
    "**3. La paciente, “Luciana Gómez”, ha cambiado de dirección. Antes vivía en “Avenida Las Heras 121” en “Buenos Aires”, pero ahora vive en “Calle Corrientes 500” en “Buenos Aires”. Actualizar la dirección de este paciente en la base de datos.**"
   ]
  },
  {
   "cell_type": "code",
   "execution_count": 21,
   "metadata": {},
   "outputs": [
    {
     "name": "stdout",
     "output_type": "stream",
     "text": [
      "Datos actualizados correctamente\n",
      "1 fila(s) afectadas\n"
     ]
    }
   ],
   "source": [
    "query_3 =  '''UPDATE pacientes\n",
    "                SET calle = 'Calle Corrientes', numero = 500\n",
    "                WHERE nombre = 'Luciana Gómez';'''\n",
    "\n",
    "with engine.connect() as connection:\n",
    "    try:\n",
    "        res = connection.execute(sql.text(query_3))\n",
    "        print(\"Datos actualizados correctamente\")\n",
    "        print(f\"{res.rowcount} fila(s) afectadas\") \n",
    "\n",
    "    except Exception as e:\n",
    "        print(e)"
   ]
  },
  {
   "cell_type": "markdown",
   "metadata": {},
   "source": [
    "**4. Seleccionar el nombre y la matrícula de cada médico cuya especialidad sea identificada por el id 4.**"
   ]
  },
  {
   "cell_type": "code",
   "execution_count": 22,
   "metadata": {},
   "outputs": [
    {
     "data": {
      "text/html": [
       "<div>\n",
       "<style scoped>\n",
       "    .dataframe tbody tr th:only-of-type {\n",
       "        vertical-align: middle;\n",
       "    }\n",
       "\n",
       "    .dataframe tbody tr th {\n",
       "        vertical-align: top;\n",
       "    }\n",
       "\n",
       "    .dataframe thead th {\n",
       "        text-align: right;\n",
       "    }\n",
       "</style>\n",
       "<table border=\"1\" class=\"dataframe\">\n",
       "  <thead>\n",
       "    <tr style=\"text-align: right;\">\n",
       "      <th></th>\n",
       "      <th>nombre</th>\n",
       "      <th>matricula</th>\n",
       "      <th>nombre</th>\n",
       "    </tr>\n",
       "  </thead>\n",
       "  <tbody>\n",
       "    <tr>\n",
       "      <th>0</th>\n",
       "      <td>Dra. Lucía Rodríguez</td>\n",
       "      <td>89012</td>\n",
       "      <td>Dermatología</td>\n",
       "    </tr>\n",
       "    <tr>\n",
       "      <th>1</th>\n",
       "      <td>Dr. Nicolás Gutiérrez</td>\n",
       "      <td>90123</td>\n",
       "      <td>Dermatología</td>\n",
       "    </tr>\n",
       "  </tbody>\n",
       "</table>\n",
       "</div>"
      ],
      "text/plain": [
       "                  nombre  matricula        nombre\n",
       "0   Dra. Lucía Rodríguez      89012  Dermatología\n",
       "1  Dr. Nicolás Gutiérrez      90123  Dermatología"
      ]
     },
     "execution_count": 22,
     "metadata": {},
     "output_type": "execute_result"
    }
   ],
   "source": [
    "query_4 = '''SELECT m.nombre, m.matricula, e.nombre\n",
    "            FROM medicos m JOIN especialidades e\n",
    "            ON m.especialidad_id = e.id_especialidad\n",
    "            WHERE e.id_especialidad = 4;'''\n",
    "pd.read_sql(query_4, engine)"
   ]
  },
  {
   "cell_type": "markdown",
   "metadata": {},
   "source": [
    "**5. Puede pasar que haya inconsistencias en la forma en la que están escritos los nombres de las ciudades, ¿cómo se corrige esto? Agregar la query correspondiente.**\n",
    "\n",
    "Para esta actividad, haremos uso de la biblioteca `pg_trgm`, la cual debemos importar a la base:"
   ]
  },
  {
   "cell_type": "code",
   "execution_count": 27,
   "metadata": {},
   "outputs": [
    {
     "name": "stdout",
     "output_type": "stream",
     "text": [
      "Extensión creada correctamente\n",
      "[(16615, 'pg_trgm', 10, 2200, True, '1.6', None, None)]\n"
     ]
    }
   ],
   "source": [
    "query_5_1 = \"CREATE EXTENSION IF NOT EXISTS pg_trgm;\"\n",
    "query_5_2 = \"SELECT * FROM pg_extension WHERE extname = 'pg_trgm';\"\n",
    "\n",
    "with engine.connect() as connection:\n",
    "    try:\n",
    "        connection.execute(sql.text(query_5_1))\n",
    "        res = connection.execute(sql.text(query_5_2))\n",
    "        print(\"Extensión creada correctamente\")\n",
    "        print(res.fetchall())\n",
    "        connection.execute(sql.text('COMMIT;'))\n",
    "        \n",
    "    except Exception as e:\n",
    "        print(e)"
   ]
  },
  {
   "cell_type": "code",
   "execution_count": 32,
   "metadata": {},
   "outputs": [
    {
     "name": "stdout",
     "output_type": "stream",
     "text": [
      "Datos actualizados correctamente para Buenos Aires\n",
      "8 fila(s) afectadas\n",
      "\n",
      "Datos actualizados correctamente para Rosario\n",
      "4 fila(s) afectadas\n",
      "\n",
      "Datos actualizados correctamente para Córdoba\n",
      "6 fila(s) afectadas\n",
      "\n",
      "Datos actualizados correctamente para Sante Fé\n",
      "1 fila(s) afectadas\n",
      "\n",
      "Datos actualizados correctamente para Mendoza\n",
      "4 fila(s) afectadas\n",
      "\n"
     ]
    }
   ],
   "source": [
    "ciudades = ['Buenos Aires', 'Rosario', 'Córdoba', 'Sante Fé', 'Mendoza']\n",
    "\n",
    "with engine.connect() as connection:\n",
    "    for ciudad in ciudades:\n",
    "        query_5 = f'''UPDATE pacientes\n",
    "                    SET ciudad = '{ciudad}'\n",
    "                    WHERE similarity(ciudad, '{ciudad}') > 0.3;'''\n",
    "        try:\n",
    "            res = connection.execute(sql.text(query_5))\n",
    "            print(f\"Datos actualizados correctamente para {ciudad}\")\n",
    "            print(f\"{res.rowcount} fila(s) afectadas\\n\")\n",
    "        except Exception as e:\n",
    "            print(f\"Error en la ciudad {ciudad}\")\n",
    "            print(e)\n",
    "    connection.execute(sql.text('COMMIT;'))\n"
   ]
  }
 ],
 "metadata": {
  "kernelspec": {
   "display_name": "datavenv",
   "language": "python",
   "name": "python3"
  },
  "language_info": {
   "codemirror_mode": {
    "name": "ipython",
    "version": 3
   },
   "file_extension": ".py",
   "mimetype": "text/x-python",
   "name": "python",
   "nbconvert_exporter": "python",
   "pygments_lexer": "ipython3",
   "version": "3.11.9"
  }
 },
 "nbformat": 4,
 "nbformat_minor": 2
}
